{
  "nbformat": 4,
  "nbformat_minor": 0,
  "metadata": {
    "colab": {
      "name": "Olympics.ipynb",
      "provenance": []
    },
    "kernelspec": {
      "name": "python3",
      "display_name": "Python 3"
    },
    "language_info": {
      "name": "python"
    }
  },
  "cells": [
    {
      "cell_type": "code",
      "metadata": {
        "id": "h6_40nlZdq57"
      },
      "source": [
        "import pandas as pd\n",
        "import numpy as np\n",
        "import matplotlib.pyplot as plt"
      ],
      "execution_count": 1,
      "outputs": []
    },
    {
      "cell_type": "code",
      "metadata": {
        "colab": {
          "base_uri": "https://localhost:8080/",
          "height": 203
        },
        "id": "QGuSRVeVe264",
        "outputId": "37c018f6-c995-4936-f859-a51bd923b8cf"
      },
      "source": [
        "df = pd.read_csv(\"summer.csv\")\n",
        "df.head()\n"
      ],
      "execution_count": 2,
      "outputs": [
        {
          "output_type": "execute_result",
          "data": {
            "text/html": [
              "<div>\n",
              "<style scoped>\n",
              "    .dataframe tbody tr th:only-of-type {\n",
              "        vertical-align: middle;\n",
              "    }\n",
              "\n",
              "    .dataframe tbody tr th {\n",
              "        vertical-align: top;\n",
              "    }\n",
              "\n",
              "    .dataframe thead th {\n",
              "        text-align: right;\n",
              "    }\n",
              "</style>\n",
              "<table border=\"1\" class=\"dataframe\">\n",
              "  <thead>\n",
              "    <tr style=\"text-align: right;\">\n",
              "      <th></th>\n",
              "      <th>Year</th>\n",
              "      <th>City</th>\n",
              "      <th>Sport</th>\n",
              "      <th>Discipline</th>\n",
              "      <th>Athlete</th>\n",
              "      <th>Country</th>\n",
              "      <th>Gender</th>\n",
              "      <th>Event</th>\n",
              "      <th>Medal</th>\n",
              "    </tr>\n",
              "  </thead>\n",
              "  <tbody>\n",
              "    <tr>\n",
              "      <th>0</th>\n",
              "      <td>1896</td>\n",
              "      <td>Athens</td>\n",
              "      <td>Aquatics</td>\n",
              "      <td>Swimming</td>\n",
              "      <td>HAJOS, Alfred</td>\n",
              "      <td>HUN</td>\n",
              "      <td>Men</td>\n",
              "      <td>100M Freestyle</td>\n",
              "      <td>Gold</td>\n",
              "    </tr>\n",
              "    <tr>\n",
              "      <th>1</th>\n",
              "      <td>1896</td>\n",
              "      <td>Athens</td>\n",
              "      <td>Aquatics</td>\n",
              "      <td>Swimming</td>\n",
              "      <td>HERSCHMANN, Otto</td>\n",
              "      <td>AUT</td>\n",
              "      <td>Men</td>\n",
              "      <td>100M Freestyle</td>\n",
              "      <td>Silver</td>\n",
              "    </tr>\n",
              "    <tr>\n",
              "      <th>2</th>\n",
              "      <td>1896</td>\n",
              "      <td>Athens</td>\n",
              "      <td>Aquatics</td>\n",
              "      <td>Swimming</td>\n",
              "      <td>DRIVAS, Dimitrios</td>\n",
              "      <td>GRE</td>\n",
              "      <td>Men</td>\n",
              "      <td>100M Freestyle For Sailors</td>\n",
              "      <td>Bronze</td>\n",
              "    </tr>\n",
              "    <tr>\n",
              "      <th>3</th>\n",
              "      <td>1896</td>\n",
              "      <td>Athens</td>\n",
              "      <td>Aquatics</td>\n",
              "      <td>Swimming</td>\n",
              "      <td>MALOKINIS, Ioannis</td>\n",
              "      <td>GRE</td>\n",
              "      <td>Men</td>\n",
              "      <td>100M Freestyle For Sailors</td>\n",
              "      <td>Gold</td>\n",
              "    </tr>\n",
              "    <tr>\n",
              "      <th>4</th>\n",
              "      <td>1896</td>\n",
              "      <td>Athens</td>\n",
              "      <td>Aquatics</td>\n",
              "      <td>Swimming</td>\n",
              "      <td>CHASAPIS, Spiridon</td>\n",
              "      <td>GRE</td>\n",
              "      <td>Men</td>\n",
              "      <td>100M Freestyle For Sailors</td>\n",
              "      <td>Silver</td>\n",
              "    </tr>\n",
              "  </tbody>\n",
              "</table>\n",
              "</div>"
            ],
            "text/plain": [
              "   Year    City     Sport  ... Gender                       Event   Medal\n",
              "0  1896  Athens  Aquatics  ...    Men              100M Freestyle    Gold\n",
              "1  1896  Athens  Aquatics  ...    Men              100M Freestyle  Silver\n",
              "2  1896  Athens  Aquatics  ...    Men  100M Freestyle For Sailors  Bronze\n",
              "3  1896  Athens  Aquatics  ...    Men  100M Freestyle For Sailors    Gold\n",
              "4  1896  Athens  Aquatics  ...    Men  100M Freestyle For Sailors  Silver\n",
              "\n",
              "[5 rows x 9 columns]"
            ]
          },
          "metadata": {},
          "execution_count": 2
        }
      ]
    },
    {
      "cell_type": "code",
      "metadata": {
        "colab": {
          "base_uri": "https://localhost:8080/"
        },
        "id": "QK5IrXSKfN3d",
        "outputId": "bb63ca6b-4a31-4cbc-801a-7176d7bc6349"
      },
      "source": [
        "df.isnull().sum()"
      ],
      "execution_count": 4,
      "outputs": [
        {
          "output_type": "execute_result",
          "data": {
            "text/plain": [
              "Year          0\n",
              "City          0\n",
              "Sport         0\n",
              "Discipline    0\n",
              "Athlete       0\n",
              "Country       4\n",
              "Gender        0\n",
              "Event         0\n",
              "Medal         0\n",
              "dtype: int64"
            ]
          },
          "metadata": {},
          "execution_count": 4
        }
      ]
    },
    {
      "cell_type": "markdown",
      "metadata": {
        "id": "zJ4GlhzwjPnI"
      },
      "source": [
        "1.In how many cities summer olympics is held so far?"
      ]
    },
    {
      "cell_type": "code",
      "metadata": {
        "colab": {
          "base_uri": "https://localhost:8080/"
        },
        "id": "twer4fqZjg0O",
        "outputId": "12d64aa4-a53a-451c-9f07-01b6c7f08cfc"
      },
      "source": [
        "no_of_cities = len(df[\"City\"].unique())\n",
        "print(\"There are total\",no_of_cities,\"cities where Summer Olympics was held so far.\")"
      ],
      "execution_count": 5,
      "outputs": [
        {
          "output_type": "stream",
          "name": "stdout",
          "text": [
            "There are total 22 cities where Summer Olympics was held so far.\n"
          ]
        }
      ]
    },
    {
      "cell_type": "markdown",
      "metadata": {
        "id": "nVxOzhWwjuLr"
      },
      "source": [
        "2.Which sport is having most number of Gold medals so far?(Top 5)"
      ]
    },
    {
      "cell_type": "code",
      "metadata": {
        "colab": {
          "base_uri": "https://localhost:8080/",
          "height": 583
        },
        "id": "ZU5cSmAtj478",
        "outputId": "ceff40d6-c1a4-47ff-baf4-586dc815ad8b"
      },
      "source": [
        "gold_data = df[df[\"Medal\"] == \"Gold\"]\n",
        "data = []\n",
        "\n",
        "for sport in gold_data[\"Sport\"].unique():\n",
        "    data.append([sport, len(gold_data[gold_data[\"Sport\"] == sport])])\n",
        "    \n",
        "Gold = pd.DataFrame(data, columns = [\"Sport\",\"Num_of_Gold_Medals\"]) \n",
        "Gold = Gold.sort_values(by = \"Num_of_Gold_Medals\", ascending = False).head()\n",
        "\n",
        "print(\"Top 5 Sports having most number of Gold Medals so far \\n\")\n",
        "print(Gold)\n",
        "print(\"\\n\")\n",
        "\n",
        "Gold.plot(x = \"Sport\", y = \"Num_of_Gold_Medals\", kind = \"bar\", figsize = (10,5), title = \"Most Gold Medals Won \")"
      ],
      "execution_count": 7,
      "outputs": [
        {
          "output_type": "stream",
          "name": "stdout",
          "text": [
            "Top 5 Sports having most number of Gold Medals so far \n",
            "\n",
            "         Sport  Num_of_Gold_Medals\n",
            "0     Aquatics                1421\n",
            "1    Athletics                1215\n",
            "17      Rowing                 890\n",
            "4   Gymnastics                 820\n",
            "3      Fencing                 552\n",
            "\n",
            "\n"
          ]
        },
        {
          "output_type": "execute_result",
          "data": {
            "text/plain": [
              "<matplotlib.axes._subplots.AxesSubplot at 0x7fd528364d90>"
            ]
          },
          "metadata": {},
          "execution_count": 7
        },
        {
          "output_type": "display_data",
          "data": {
            "image/png": "[encoded data removed]",
            "text/plain": [
              "<Figure size 720x360 with 1 Axes>"
            ]
          },
          "metadata": {
            "needs_background": "light"
          }
        }
      ]
    },
    {
      "cell_type": "markdown",
      "metadata": {
        "id": "fy83ExiXncgV"
      },
      "source": [
        "3.Which sport is having most number of medals so far?(Top 5)"
      ]
    },
    {
      "cell_type": "code",
      "metadata": {
        "colab": {
          "base_uri": "https://localhost:8080/",
          "height": 855
        },
        "id": "ISj3rKfBntno",
        "outputId": "817bccda-8c8f-4077-ca41-63d0c416b876"
      },
      "source": [
        "data = []\n",
        "\n",
        "for sport in df[\"Sport\"].unique():\n",
        "    data.append([sport, len(df[df[\"Sport\"] == sport])])\n",
        "    \n",
        "Medal = pd.DataFrame(data, columns = [\"Sport\",\"Number_of_Medals\"])\n",
        "Medal = Medal.sort_values(by = \"Number_of_Medals\", ascending = False).head()\n",
        "\n",
        "print(\"Top 5 Sports having most numbers of medals so far,\\n\")\n",
        "print(Medal)\n",
        "print(\"\\n\")\n",
        "\n",
        "Medal.plot(x = \"Sport\", y = \"Number_of_Medals\", kind = \"bar\", color = \"red\", ylabel = \"Number of Medals \", figsize = (10,10), title = \"Most Medals Won in Sports(Top 5)\")"
      ],
      "execution_count": 19,
      "outputs": [
        {
          "output_type": "stream",
          "name": "stdout",
          "text": [
            "Top 5 Sports having most numbers of medals so far,\n",
            "\n",
            "         Sport  Number_of_Medals\n",
            "0     Aquatics              4170\n",
            "1    Athletics              3638\n",
            "17      Rowing              2667\n",
            "4   Gymnastics              2307\n",
            "3      Fencing              1613\n",
            "\n",
            "\n"
          ]
        },
        {
          "output_type": "execute_result",
          "data": {
            "text/plain": [
              "<matplotlib.axes._subplots.AxesSubplot at 0x7fd527b4f410>"
            ]
          },
          "metadata": {},
          "execution_count": 19
        },
        {
          "output_type": "display_data",
          "data": {
            "image/png": "[encoded data removed]",
            "text/plain": [
              "<Figure size 720x720 with 1 Axes>"
            ]
          },
          "metadata": {
            "needs_background": "light"
          }
        }
      ]
    },
    {
      "cell_type": "markdown",
      "metadata": {
        "id": "AzgnhDBAokZP"
      },
      "source": [
        "4.Which player has won most number of medals so far?(Top 5)"
      ]
    },
    {
      "cell_type": "code",
      "metadata": {
        "colab": {
          "base_uri": "https://localhost:8080/",
          "height": 642
        },
        "id": "-prpTZgeppL-",
        "outputId": "c8079e89-8548-4c2a-f674-22a7d775cb35"
      },
      "source": [
        "data = []\n",
        "\n",
        "for athlete in df['Athlete'].unique():\n",
        "    data.append([athlete , len(df[df['Athlete']  == athlete])])\n",
        "    \n",
        "athlete = pd.DataFrame(data, columns=['Athlete','Num_Medal'])                  \n",
        "athlete = athlete.sort_values(by = 'Num_Medal', ascending = False).head()  \n",
        "\n",
        "print('Top 5 Athlete who won most medals \\n')\n",
        "print(athlete)                                                                  \n",
        "print('\\n')\n",
        "\n",
        "athlete.plot(x = 'Athlete' , y = 'Num_Medal', ylabel= 'Number of Medal', kind = 'bar', color = \"green\", figsize = (10,5), title = 'Most number of  Medals won by Athlete (Top 5)')"
      ],
      "execution_count": 20,
      "outputs": [
        {
          "output_type": "stream",
          "name": "stdout",
          "text": [
            "Top 5 Athlete who won most medals \n",
            "\n",
            "                    Athlete  Num_Medal\n",
            "18640       PHELPS, Michael         22\n",
            "7197       LATYNINA, Larisa         18\n",
            "9948     ANDRIANOV, Nikolay         15\n",
            "6591           ONO, Takashi         13\n",
            "5103   MANGIAROTTI, Edoardo         13\n",
            "\n",
            "\n"
          ]
        },
        {
          "output_type": "execute_result",
          "data": {
            "text/plain": [
              "<matplotlib.axes._subplots.AxesSubplot at 0x7fd527b44490>"
            ]
          },
          "metadata": {},
          "execution_count": 20
        },
        {
          "output_type": "display_data",
          "data": {
            "image/png": "[encoded data removed]",
            "text/plain": [
              "<Figure size 720x360 with 1 Axes>"
            ]
          },
          "metadata": {
            "needs_background": "light"
          }
        }
      ]
    },
    {
      "cell_type": "markdown",
      "metadata": {
        "id": "FLqhdgfNqcR-"
      },
      "source": [
        "5.Which player has won most number of Gold medals?(Top 5)"
      ]
    },
    {
      "cell_type": "code",
      "metadata": {
        "colab": {
          "base_uri": "https://localhost:8080/",
          "height": 610
        },
        "id": "IaZL6DubqlV1",
        "outputId": "c71a43e8-af8f-4ab0-b554-0f1e1c29e22d"
      },
      "source": [
        "Gold_data = df[df[\"Medal\"] == \"Gold\"]\n",
        "data = []\n",
        "\n",
        "for athlete in Gold_data['Athlete'].unique():\n",
        "    data.append([athlete , len(Gold_data[Gold_data['Athlete']  == athlete])])\n",
        "    \n",
        "athlete = pd.DataFrame(data, columns=['Athlete','Num_Medal'])                  \n",
        "athlete = athlete.sort_values(by = 'Num_Medal', ascending = False).head()  \n",
        "\n",
        "print('Top 5 Athlete who won most Gold medals \\n')\n",
        "print(athlete)                                                                  \n",
        "print('\\n')\n",
        "\n",
        "athlete.plot(x = 'Athlete' , y = 'Num_Medal', ylabel= 'Number of Gold Medal', kind = 'bar', color = \"green\", figsize = (10,5), title = 'Most Gold Medal won by Athlete (Top 5)')"
      ],
      "execution_count": 21,
      "outputs": [
        {
          "output_type": "stream",
          "name": "stdout",
          "text": [
            "Top 5 Athlete who won most Gold medals \n",
            "\n",
            "               Athlete  Num_Medal\n",
            "6851   PHELPS, Michael         18\n",
            "3320       SPITZ, Mark          9\n",
            "2714  LATYNINA, Larisa          9\n",
            "4630       LEWIS, Carl          9\n",
            "907       NURMI, Paavo          9\n",
            "\n",
            "\n"
          ]
        },
        {
          "output_type": "execute_result",
          "data": {
            "text/plain": [
              "<matplotlib.axes._subplots.AxesSubplot at 0x7fd5278973d0>"
            ]
          },
          "metadata": {},
          "execution_count": 21
        },
        {
          "output_type": "display_data",
          "data": {
            "image/png": "[encoded data removed]",
            "text/plain": [
              "<Figure size 720x360 with 1 Axes>"
            ]
          },
          "metadata": {
            "needs_background": "light"
          }
        }
      ]
    },
    {
      "cell_type": "markdown",
      "metadata": {
        "id": "IjLR8oWoq1KQ"
      },
      "source": [
        "6.In which year India won first gold medal in Summer olympics"
      ]
    },
    {
      "cell_type": "code",
      "metadata": {
        "colab": {
          "base_uri": "https://localhost:8080/"
        },
        "id": "chpU8242rADL",
        "outputId": "6cde01dd-a42e-4db3-e22e-97a7668b736d"
      },
      "source": [
        "gold_data= df[df[\"Medal\"]==\"Gold\"]                                              \n",
        "india_gold = gold_data[gold_data['Country'] == 'IND'].head(1)                   \n",
        "                                                                                \n",
        "year = int(india_gold['Year'])                                                  \n",
        "print('India Won its First Summer Olympic Medal in the year-',year)"
      ],
      "execution_count": 22,
      "outputs": [
        {
          "output_type": "stream",
          "name": "stdout",
          "text": [
            "India Won its First Summer Olympic Medal in the year- 1928\n"
          ]
        }
      ]
    },
    {
      "cell_type": "markdown",
      "metadata": {
        "id": "9SFVtgJ7rQmz"
      },
      "source": [
        "7.Which event is most popular in terms on number of players(Top 5)"
      ]
    },
    {
      "cell_type": "code",
      "metadata": {
        "colab": {
          "base_uri": "https://localhost:8080/",
          "height": 652
        },
        "id": "yDB3IXJureCQ",
        "outputId": "d0ede939-cc7c-423e-a7d0-e78ed32a674c"
      },
      "source": [
        "data = []\n",
        "\n",
        "for event in df['Event'].unique():\n",
        "    event_df = df[df['Event'] == event]                                             \n",
        "    players = len(event_df['Athlete'].unique())                                   \n",
        "    data.append([event , players])\n",
        "\n",
        "player = pd.DataFrame(data, columns=['Event','Num_players'])                     \n",
        "player = player.sort_values(by= 'Num_players', ascending= False).head()           \n",
        "\n",
        "print('Top 5 Sport Events whose having most number of players \\n')\n",
        "print(player)                                                                   \n",
        "print('\\n')\n",
        "\n",
        "player.plot(x = 'Event' , y = 'Num_players', ylabel= 'Number of players', kind = 'bar', figsize = (10,5), title = 'Most number of  players in sport events (Top 5)')"
      ],
      "execution_count": 23,
      "outputs": [
        {
          "output_type": "stream",
          "name": "stdout",
          "text": [
            "Top 5 Sport Events whose having most number of players \n",
            "\n",
            "                        Event  Num_players\n",
            "80                   Football         1357\n",
            "176                    Hockey         1154\n",
            "138          Team Competition          975\n",
            "83   Eight With Coxswain (8+)          828\n",
            "327                Basketball          814\n",
            "\n",
            "\n"
          ]
        },
        {
          "output_type": "execute_result",
          "data": {
            "text/plain": [
              "<matplotlib.axes._subplots.AxesSubplot at 0x7fd5275f0ad0>"
            ]
          },
          "metadata": {},
          "execution_count": 23
        },
        {
          "output_type": "display_data",
          "data": {
            "image/png": "[encoded data removed]",
            "text/plain": [
              "<Figure size 720x360 with 1 Axes>"
            ]
          },
          "metadata": {
            "needs_background": "light"
          }
        }
      ]
    },
    {
      "cell_type": "markdown",
      "metadata": {
        "id": "mr_0ENq8rsFT"
      },
      "source": [
        "8.Which sport is having most female Gold medalists (Top 5)"
      ]
    },
    {
      "cell_type": "code",
      "metadata": {
        "colab": {
          "base_uri": "https://localhost:8080/",
          "height": 583
        },
        "id": "rW_3xYdNr4Ym",
        "outputId": "9cd0b08d-47c8-41fe-be20-87f1991382a8"
      },
      "source": [
        "female_data= df[df['Gender'] == \"Women\"]                                        \n",
        "gold_data= female_data[female_data[\"Medal\"] == \"Gold\"]  \n",
        "\n",
        "data=[]\n",
        "\n",
        "for sport in gold_data['Sport'].unique():\n",
        "    data.append([sport , len(gold_data[gold_data['Sport']  == sport])])\n",
        "    \n",
        "medal = pd.DataFrame(data, columns=['Sport','Num_Medal'])                       \n",
        "medal = medal.sort_values(by = 'Num_Medal', ascending = False).head()           \n",
        "\n",
        "print('Top 5 sports having most medal won by Female \\n')\n",
        "print(medal)                                                                    \n",
        "print('\\n')\n",
        "\n",
        "medal.plot(x = 'Sport' , y = 'Num_Medal', ylabel= 'Number of Medal', kind = 'bar', color = \"blue\", figsize = (10,5), title = 'Most Medal won in Sports by Female (Top 5)')"
      ],
      "execution_count": 24,
      "outputs": [
        {
          "output_type": "stream",
          "name": "stdout",
          "text": [
            "Top 5 sports having most medal won by Female \n",
            "\n",
            "         Sport  Num_Medal\n",
            "4     Aquatics        589\n",
            "7    Athletics        389\n",
            "8   Gymnastics        268\n",
            "14      Rowing        217\n",
            "11  Volleyball        166\n",
            "\n",
            "\n"
          ]
        },
        {
          "output_type": "execute_result",
          "data": {
            "text/plain": [
              "<matplotlib.axes._subplots.AxesSubplot at 0x7fd527baaad0>"
            ]
          },
          "metadata": {},
          "execution_count": 24
        },
        {
          "output_type": "display_data",
          "data": {
            "image/png": "[encoded data removed]",
            "text/plain": [
              "<Figure size 720x360 with 1 Axes>"
            ]
          },
          "metadata": {
            "needs_background": "light"
          }
        }
      ]
    }
  ]
}